{
 "cells": [
  {
   "cell_type": "code",
   "execution_count": 1,
   "id": "28c5e54a",
   "metadata": {},
   "outputs": [
    {
     "name": "stdout",
     "output_type": "stream",
     "text": [
      "Requirement already satisfied: pandas_market_calendars in c:\\users\\user\\financial_modeling_project\\.venv\\lib\\site-packages (5.0.0)\n",
      "Requirement already satisfied: tzdata in c:\\users\\user\\financial_modeling_project\\.venv\\lib\\site-packages (from pandas_market_calendars) (2025.2)\n",
      "Requirement already satisfied: pandas>=1.1 in c:\\users\\user\\financial_modeling_project\\.venv\\lib\\site-packages (from pandas_market_calendars) (2.0.3)\n",
      "Requirement already satisfied: python-dateutil in c:\\users\\user\\financial_modeling_project\\.venv\\lib\\site-packages (from pandas_market_calendars) (2.9.0.post0)\n",
      "Requirement already satisfied: exchange-calendars>=3.3 in c:\\users\\user\\financial_modeling_project\\.venv\\lib\\site-packages (from pandas_market_calendars) (4.5.6)\n",
      "Requirement already satisfied: korean-lunar-calendar in c:\\users\\user\\financial_modeling_project\\.venv\\lib\\site-packages (from exchange-calendars>=3.3->pandas_market_calendars) (0.3.1)\n",
      "Requirement already satisfied: numpy in c:\\users\\user\\financial_modeling_project\\.venv\\lib\\site-packages (from exchange-calendars>=3.3->pandas_market_calendars) (1.21.6)\n",
      "Requirement already satisfied: toolz in c:\\users\\user\\financial_modeling_project\\.venv\\lib\\site-packages (from exchange-calendars>=3.3->pandas_market_calendars) (1.0.0)\n",
      "Requirement already satisfied: pyluach in c:\\users\\user\\financial_modeling_project\\.venv\\lib\\site-packages (from exchange-calendars>=3.3->pandas_market_calendars) (2.2.0)\n",
      "Requirement already satisfied: pytz>=2020.1 in c:\\users\\user\\financial_modeling_project\\.venv\\lib\\site-packages (from pandas>=1.1->pandas_market_calendars) (2025.2)\n",
      "Requirement already satisfied: six>=1.5 in c:\\users\\user\\financial_modeling_project\\.venv\\lib\\site-packages (from python-dateutil->pandas_market_calendars) (1.17.0)\n",
      "Note: you may need to restart the kernel to use updated packages.\n"
     ]
    },
    {
     "name": "stderr",
     "output_type": "stream",
     "text": [
      "WARNING: You are using pip version 22.0.4; however, version 25.0.1 is available.\n",
      "You should consider upgrading via the 'C:\\Users\\USER\\Financial_Modeling_Project\\.venv\\Scripts\\python.exe -m pip install --upgrade pip' command.\n"
     ]
    }
   ],
   "source": [
    "pip install pandas_market_calendars\n"
   ]
  },
  {
   "cell_type": "code",
   "execution_count": 12,
   "id": "3d3f04ae",
   "metadata": {},
   "outputs": [],
   "source": [
    "import pandas_market_calendars as mcal\n",
    "import pandas as pd\n",
    "\n",
    "# Get last trading days every month\n",
    "nyse = mcal.get_calendar('NYSE')\n",
    "schedule = nyse.schedule(start_date='2020-01-01', end_date='2025-03-31')\n",
    "last_trading_days = schedule.resample('M').last()\n",
    "\n",
    "\n",
    "df = pd.DataFrame()\n",
    "df['trade_date'] = last_trading_days['market_open'].dt.strftime('%m-%d-%Y')\n",
    "\n",
    "\n",
    "\n"
   ]
  },
  {
   "cell_type": "code",
   "execution_count": 14,
   "id": "ccfa13b0",
   "metadata": {},
   "outputs": [
    {
     "data": {
      "text/html": [
       "<div>\n",
       "<style scoped>\n",
       "    .dataframe tbody tr th:only-of-type {\n",
       "        vertical-align: middle;\n",
       "    }\n",
       "\n",
       "    .dataframe tbody tr th {\n",
       "        vertical-align: top;\n",
       "    }\n",
       "\n",
       "    .dataframe thead th {\n",
       "        text-align: right;\n",
       "    }\n",
       "</style>\n",
       "<table border=\"1\" class=\"dataframe\">\n",
       "  <thead>\n",
       "    <tr style=\"text-align: right;\">\n",
       "      <th></th>\n",
       "      <th>trade_date</th>\n",
       "    </tr>\n",
       "  </thead>\n",
       "  <tbody>\n",
       "    <tr>\n",
       "      <th>2020-01-31</th>\n",
       "      <td>01-31-2020</td>\n",
       "    </tr>\n",
       "    <tr>\n",
       "      <th>2020-02-29</th>\n",
       "      <td>02-28-2020</td>\n",
       "    </tr>\n",
       "    <tr>\n",
       "      <th>2020-03-31</th>\n",
       "      <td>03-31-2020</td>\n",
       "    </tr>\n",
       "    <tr>\n",
       "      <th>2020-04-30</th>\n",
       "      <td>04-30-2020</td>\n",
       "    </tr>\n",
       "    <tr>\n",
       "      <th>2020-05-31</th>\n",
       "      <td>05-29-2020</td>\n",
       "    </tr>\n",
       "    <tr>\n",
       "      <th>...</th>\n",
       "      <td>...</td>\n",
       "    </tr>\n",
       "    <tr>\n",
       "      <th>2024-11-30</th>\n",
       "      <td>11-29-2024</td>\n",
       "    </tr>\n",
       "    <tr>\n",
       "      <th>2024-12-31</th>\n",
       "      <td>12-31-2024</td>\n",
       "    </tr>\n",
       "    <tr>\n",
       "      <th>2025-01-31</th>\n",
       "      <td>01-31-2025</td>\n",
       "    </tr>\n",
       "    <tr>\n",
       "      <th>2025-02-28</th>\n",
       "      <td>02-28-2025</td>\n",
       "    </tr>\n",
       "    <tr>\n",
       "      <th>2025-03-31</th>\n",
       "      <td>03-31-2025</td>\n",
       "    </tr>\n",
       "  </tbody>\n",
       "</table>\n",
       "<p>63 rows × 1 columns</p>\n",
       "</div>"
      ],
      "text/plain": [
       "            trade_date\n",
       "2020-01-31  01-31-2020\n",
       "2020-02-29  02-28-2020\n",
       "2020-03-31  03-31-2020\n",
       "2020-04-30  04-30-2020\n",
       "2020-05-31  05-29-2020\n",
       "...                ...\n",
       "2024-11-30  11-29-2024\n",
       "2024-12-31  12-31-2024\n",
       "2025-01-31  01-31-2025\n",
       "2025-02-28  02-28-2025\n",
       "2025-03-31  03-31-2025\n",
       "\n",
       "[63 rows x 1 columns]"
      ]
     },
     "execution_count": 14,
     "metadata": {},
     "output_type": "execute_result"
    }
   ],
   "source": [
    "df"
   ]
  }
 ],
 "metadata": {
  "kernelspec": {
   "display_name": "Python (.venv)",
   "language": "python",
   "name": ".venv"
  },
  "language_info": {
   "codemirror_mode": {
    "name": "ipython",
    "version": 3
   },
   "file_extension": ".py",
   "mimetype": "text/x-python",
   "name": "python",
   "nbconvert_exporter": "python",
   "pygments_lexer": "ipython3",
   "version": "3.9.13"
  }
 },
 "nbformat": 4,
 "nbformat_minor": 5
}
